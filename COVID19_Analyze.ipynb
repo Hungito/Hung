{
 "cells": [
  {
   "cell_type": "code",
   "execution_count": 1,
   "id": "21968ec7",
   "metadata": {},
   "outputs": [],
   "source": [
    "#Importing necessary libraries\n",
    "import pandas as pd\n",
    "import matplotlib.pyplot as plt\n",
    "import numpy as np"
   ]
  },
  {
   "cell_type": "code",
   "execution_count": 2,
   "id": "c14d1ec0",
   "metadata": {},
   "outputs": [
    {
     "data": {
      "text/html": [
       "<div>\n",
       "<style scoped>\n",
       "    .dataframe tbody tr th:only-of-type {\n",
       "        vertical-align: middle;\n",
       "    }\n",
       "\n",
       "    .dataframe tbody tr th {\n",
       "        vertical-align: top;\n",
       "    }\n",
       "\n",
       "    .dataframe thead th {\n",
       "        text-align: right;\n",
       "    }\n",
       "</style>\n",
       "<table border=\"1\" class=\"dataframe\">\n",
       "  <thead>\n",
       "    <tr style=\"text-align: right;\">\n",
       "      <th></th>\n",
       "      <th>submission_date</th>\n",
       "      <th>state</th>\n",
       "      <th>tot_cases</th>\n",
       "      <th>conf_cases</th>\n",
       "      <th>prob_cases</th>\n",
       "      <th>new_case</th>\n",
       "      <th>pnew_case</th>\n",
       "      <th>tot_death</th>\n",
       "      <th>conf_death</th>\n",
       "      <th>prob_death</th>\n",
       "      <th>new_death</th>\n",
       "      <th>pnew_death</th>\n",
       "      <th>created_at</th>\n",
       "      <th>consent_cases</th>\n",
       "      <th>consent_deaths</th>\n",
       "    </tr>\n",
       "  </thead>\n",
       "  <tbody>\n",
       "    <tr>\n",
       "      <th>0</th>\n",
       "      <td>6/18/2020</td>\n",
       "      <td>AL</td>\n",
       "      <td>28622</td>\n",
       "      <td>28252.0</td>\n",
       "      <td>370.0</td>\n",
       "      <td>729</td>\n",
       "      <td>5.0</td>\n",
       "      <td>1129</td>\n",
       "      <td>1051.0</td>\n",
       "      <td>78.0</td>\n",
       "      <td>7</td>\n",
       "      <td>0.0</td>\n",
       "      <td>6/18/2020 0:00</td>\n",
       "      <td>Agree</td>\n",
       "      <td>Agree</td>\n",
       "    </tr>\n",
       "    <tr>\n",
       "      <th>1</th>\n",
       "      <td>12/1/2021</td>\n",
       "      <td>ND</td>\n",
       "      <td>163565</td>\n",
       "      <td>135705.0</td>\n",
       "      <td>27860.0</td>\n",
       "      <td>589</td>\n",
       "      <td>220.0</td>\n",
       "      <td>1907</td>\n",
       "      <td>NaN</td>\n",
       "      <td>NaN</td>\n",
       "      <td>9</td>\n",
       "      <td>0.0</td>\n",
       "      <td>12/2/2021 14:35</td>\n",
       "      <td>Agree</td>\n",
       "      <td>Not agree</td>\n",
       "    </tr>\n",
       "    <tr>\n",
       "      <th>2</th>\n",
       "      <td>1/2/2022</td>\n",
       "      <td>AS</td>\n",
       "      <td>11</td>\n",
       "      <td>NaN</td>\n",
       "      <td>NaN</td>\n",
       "      <td>0</td>\n",
       "      <td>0.0</td>\n",
       "      <td>0</td>\n",
       "      <td>NaN</td>\n",
       "      <td>NaN</td>\n",
       "      <td>0</td>\n",
       "      <td>0.0</td>\n",
       "      <td>1/3/2022 15:18</td>\n",
       "      <td>NaN</td>\n",
       "      <td>NaN</td>\n",
       "    </tr>\n",
       "    <tr>\n",
       "      <th>3</th>\n",
       "      <td>2/4/2020</td>\n",
       "      <td>AR</td>\n",
       "      <td>0</td>\n",
       "      <td>NaN</td>\n",
       "      <td>NaN</td>\n",
       "      <td>0</td>\n",
       "      <td>NaN</td>\n",
       "      <td>0</td>\n",
       "      <td>NaN</td>\n",
       "      <td>NaN</td>\n",
       "      <td>0</td>\n",
       "      <td>NaN</td>\n",
       "      <td>3/26/2020 16:22</td>\n",
       "      <td>Not agree</td>\n",
       "      <td>Not agree</td>\n",
       "    </tr>\n",
       "    <tr>\n",
       "      <th>4</th>\n",
       "      <td>5/30/2022</td>\n",
       "      <td>AK</td>\n",
       "      <td>251425</td>\n",
       "      <td>NaN</td>\n",
       "      <td>NaN</td>\n",
       "      <td>0</td>\n",
       "      <td>0.0</td>\n",
       "      <td>1252</td>\n",
       "      <td>NaN</td>\n",
       "      <td>NaN</td>\n",
       "      <td>0</td>\n",
       "      <td>0.0</td>\n",
       "      <td>5/31/2022 13:20</td>\n",
       "      <td>NaN</td>\n",
       "      <td>NaN</td>\n",
       "    </tr>\n",
       "  </tbody>\n",
       "</table>\n",
       "</div>"
      ],
      "text/plain": [
       "  submission_date state  tot_cases  conf_cases  prob_cases  new_case  \\\n",
       "0       6/18/2020    AL      28622     28252.0       370.0       729   \n",
       "1       12/1/2021    ND     163565    135705.0     27860.0       589   \n",
       "2        1/2/2022    AS         11         NaN         NaN         0   \n",
       "3        2/4/2020    AR          0         NaN         NaN         0   \n",
       "4       5/30/2022    AK     251425         NaN         NaN         0   \n",
       "\n",
       "   pnew_case  tot_death  conf_death  prob_death  new_death  pnew_death  \\\n",
       "0        5.0       1129      1051.0        78.0          7         0.0   \n",
       "1      220.0       1907         NaN         NaN          9         0.0   \n",
       "2        0.0          0         NaN         NaN          0         0.0   \n",
       "3        NaN          0         NaN         NaN          0         NaN   \n",
       "4        0.0       1252         NaN         NaN          0         0.0   \n",
       "\n",
       "        created_at consent_cases consent_deaths  \n",
       "0   6/18/2020 0:00         Agree          Agree  \n",
       "1  12/2/2021 14:35         Agree      Not agree  \n",
       "2   1/3/2022 15:18           NaN            NaN  \n",
       "3  3/26/2020 16:22     Not agree      Not agree  \n",
       "4  5/31/2022 13:20           NaN            NaN  "
      ]
     },
     "execution_count": 2,
     "metadata": {},
     "output_type": "execute_result"
    }
   ],
   "source": [
    "#Reading the file\n",
    "covid_cases = pd.read_csv('United_States_COVID-19_Cases_and_Deaths_by_State_over_Time.csv')\n",
    "covid_cases.head(5)"
   ]
  },
  {
   "cell_type": "markdown",
   "id": "75976bd5",
   "metadata": {},
   "source": [
    "### Manipulating the data"
   ]
  },
  {
   "cell_type": "code",
   "execution_count": 3,
   "id": "a3b9dbcf",
   "metadata": {},
   "outputs": [
    {
     "data": {
      "text/html": [
       "<div>\n",
       "<style scoped>\n",
       "    .dataframe tbody tr th:only-of-type {\n",
       "        vertical-align: middle;\n",
       "    }\n",
       "\n",
       "    .dataframe tbody tr th {\n",
       "        vertical-align: top;\n",
       "    }\n",
       "\n",
       "    .dataframe thead th {\n",
       "        text-align: right;\n",
       "    }\n",
       "</style>\n",
       "<table border=\"1\" class=\"dataframe\">\n",
       "  <thead>\n",
       "    <tr style=\"text-align: right;\">\n",
       "      <th></th>\n",
       "      <th>submission_date</th>\n",
       "      <th>state</th>\n",
       "      <th>tot_cases</th>\n",
       "      <th>conf_cases</th>\n",
       "      <th>prob_cases</th>\n",
       "      <th>new_case</th>\n",
       "      <th>pnew_case</th>\n",
       "      <th>tot_death</th>\n",
       "      <th>conf_death</th>\n",
       "      <th>prob_death</th>\n",
       "      <th>new_death</th>\n",
       "      <th>pnew_death</th>\n",
       "      <th>created_at</th>\n",
       "      <th>consent_cases</th>\n",
       "      <th>consent_deaths</th>\n",
       "      <th>month</th>\n",
       "      <th>year</th>\n",
       "    </tr>\n",
       "  </thead>\n",
       "  <tbody>\n",
       "    <tr>\n",
       "      <th>0</th>\n",
       "      <td>2020-06-18</td>\n",
       "      <td>AL</td>\n",
       "      <td>28622</td>\n",
       "      <td>28252.0</td>\n",
       "      <td>370.0</td>\n",
       "      <td>729</td>\n",
       "      <td>5.0</td>\n",
       "      <td>1129</td>\n",
       "      <td>1051.0</td>\n",
       "      <td>78.0</td>\n",
       "      <td>7</td>\n",
       "      <td>0.0</td>\n",
       "      <td>6/18/2020 0:00</td>\n",
       "      <td>Agree</td>\n",
       "      <td>Agree</td>\n",
       "      <td>6</td>\n",
       "      <td>2020</td>\n",
       "    </tr>\n",
       "    <tr>\n",
       "      <th>1</th>\n",
       "      <td>2021-12-01</td>\n",
       "      <td>ND</td>\n",
       "      <td>163565</td>\n",
       "      <td>135705.0</td>\n",
       "      <td>27860.0</td>\n",
       "      <td>589</td>\n",
       "      <td>220.0</td>\n",
       "      <td>1907</td>\n",
       "      <td>NaN</td>\n",
       "      <td>NaN</td>\n",
       "      <td>9</td>\n",
       "      <td>0.0</td>\n",
       "      <td>12/2/2021 14:35</td>\n",
       "      <td>Agree</td>\n",
       "      <td>Not agree</td>\n",
       "      <td>12</td>\n",
       "      <td>2021</td>\n",
       "    </tr>\n",
       "    <tr>\n",
       "      <th>2</th>\n",
       "      <td>2022-01-02</td>\n",
       "      <td>AS</td>\n",
       "      <td>11</td>\n",
       "      <td>NaN</td>\n",
       "      <td>NaN</td>\n",
       "      <td>0</td>\n",
       "      <td>0.0</td>\n",
       "      <td>0</td>\n",
       "      <td>NaN</td>\n",
       "      <td>NaN</td>\n",
       "      <td>0</td>\n",
       "      <td>0.0</td>\n",
       "      <td>1/3/2022 15:18</td>\n",
       "      <td>NaN</td>\n",
       "      <td>NaN</td>\n",
       "      <td>1</td>\n",
       "      <td>2022</td>\n",
       "    </tr>\n",
       "    <tr>\n",
       "      <th>3</th>\n",
       "      <td>2020-02-04</td>\n",
       "      <td>AR</td>\n",
       "      <td>0</td>\n",
       "      <td>NaN</td>\n",
       "      <td>NaN</td>\n",
       "      <td>0</td>\n",
       "      <td>NaN</td>\n",
       "      <td>0</td>\n",
       "      <td>NaN</td>\n",
       "      <td>NaN</td>\n",
       "      <td>0</td>\n",
       "      <td>NaN</td>\n",
       "      <td>3/26/2020 16:22</td>\n",
       "      <td>Not agree</td>\n",
       "      <td>Not agree</td>\n",
       "      <td>2</td>\n",
       "      <td>2020</td>\n",
       "    </tr>\n",
       "    <tr>\n",
       "      <th>4</th>\n",
       "      <td>2022-05-30</td>\n",
       "      <td>AK</td>\n",
       "      <td>251425</td>\n",
       "      <td>NaN</td>\n",
       "      <td>NaN</td>\n",
       "      <td>0</td>\n",
       "      <td>0.0</td>\n",
       "      <td>1252</td>\n",
       "      <td>NaN</td>\n",
       "      <td>NaN</td>\n",
       "      <td>0</td>\n",
       "      <td>0.0</td>\n",
       "      <td>5/31/2022 13:20</td>\n",
       "      <td>NaN</td>\n",
       "      <td>NaN</td>\n",
       "      <td>5</td>\n",
       "      <td>2022</td>\n",
       "    </tr>\n",
       "  </tbody>\n",
       "</table>\n",
       "</div>"
      ],
      "text/plain": [
       "  submission_date state  tot_cases  conf_cases  prob_cases  new_case  \\\n",
       "0      2020-06-18    AL      28622     28252.0       370.0       729   \n",
       "1      2021-12-01    ND     163565    135705.0     27860.0       589   \n",
       "2      2022-01-02    AS         11         NaN         NaN         0   \n",
       "3      2020-02-04    AR          0         NaN         NaN         0   \n",
       "4      2022-05-30    AK     251425         NaN         NaN         0   \n",
       "\n",
       "   pnew_case  tot_death  conf_death  prob_death  new_death  pnew_death  \\\n",
       "0        5.0       1129      1051.0        78.0          7         0.0   \n",
       "1      220.0       1907         NaN         NaN          9         0.0   \n",
       "2        0.0          0         NaN         NaN          0         0.0   \n",
       "3        NaN          0         NaN         NaN          0         NaN   \n",
       "4        0.0       1252         NaN         NaN          0         0.0   \n",
       "\n",
       "        created_at consent_cases consent_deaths  month  year  \n",
       "0   6/18/2020 0:00         Agree          Agree      6  2020  \n",
       "1  12/2/2021 14:35         Agree      Not agree     12  2021  \n",
       "2   1/3/2022 15:18           NaN            NaN      1  2022  \n",
       "3  3/26/2020 16:22     Not agree      Not agree      2  2020  \n",
       "4  5/31/2022 13:20           NaN            NaN      5  2022  "
      ]
     },
     "execution_count": 3,
     "metadata": {},
     "output_type": "execute_result"
    }
   ],
   "source": [
    "#Converting the submission_date to a date time object\n",
    "covid_cases['submission_date'] = pd.to_datetime(covid_cases['submission_date'])\n",
    "\n",
    "#Creating the month/year column\n",
    "covid_cases['month'] = covid_cases['submission_date'].dt.month\n",
    "covid_cases['year'] = covid_cases['submission_date'].dt.year\n",
    "\n",
    "covid_cases.head(5)"
   ]
  },
  {
   "cell_type": "markdown",
   "id": "4f90c678",
   "metadata": {},
   "source": [
    "### Question: Comparing confirm cases for two different states?"
   ]
  },
  {
   "cell_type": "code",
   "execution_count": 60,
   "id": "d6900cbb",
   "metadata": {
    "scrolled": false
   },
   "outputs": [
    {
     "data": {
      "image/png": "[encoded data removed]",
      "text/plain": [
       "<Figure size 432x288 with 2 Axes>"
      ]
     },
     "metadata": {
      "needs_background": "light"
     },
     "output_type": "display_data"
    }
   ],
   "source": [
    "#Adding a function that will return the latest update for every month on the confirm cases of the state parameter\n",
    "def state_conf_cases(state):\n",
    "    #Filtering data so that we are looking at one state in 2021\n",
    "    conf_cases = covid_cases[(covid_cases['state'] == state) & (covid_cases['year'] == 2021)]\n",
    "    \n",
    "    #Getting the latest confirm cases of each month\n",
    "    results = conf_cases.sort_values('submission_date').groupby('month').tail(1)\n",
    "    \n",
    "    #Returning results\n",
    "    #The results will contain the latest conf case for 12 months in the selected state\n",
    "    return results\n",
    "\n",
    "#Creating a value for all 12 months\n",
    "months = range(1,13)\n",
    "\n",
    "#Comparing confirm cases for VA vs CA\n",
    "fig, ax1 = plt.subplots()\n",
    "\n",
    "ax2 = ax1.twinx()\n",
    "ax1.bar(months, state_conf_cases('VA')['conf_cases'], color='#344ad9', label='Virginia')\n",
    "ax2.bar(months, state_conf_cases('CA')['conf_cases'], align = 'edge', color='#ff4d52', label='California')\n",
    "\n",
    "#Adding x/y labels\n",
    "ax1.set_xlabel('Months')\n",
    "ax1.set_ylabel('Virginia Confirm Cases', color='#344ad9')\n",
    "ax2.set_ylabel('California Confirm Cases', color='#ff4d52')\n",
    "\n",
    "#Adding the ticks\n",
    "plt.xticks(months)\n",
    "ax1.set_yticks(range(0,6000000,1000000))\n",
    "\n",
    "#Removing the scientific notation from y axis\n",
    "ax1.ticklabel_format(axis='y', style='plain')\n",
    "ax2.ticklabel_format(axis='y', style='plain')\n",
    "\n",
    "#Showing the graph\n",
    "plt.show()"
   ]
  },
  {
   "cell_type": "markdown",
   "id": "143633d0",
   "metadata": {},
   "source": [
    "### Conlusion:\n",
    "    #### Comparing to Califorinia, the confirmed cases in Virginia is way less than California\n",
    "    ### Reason?\n",
    "        ### Could be because california population is more than(x5) Virginia?\n",
    "        ### Could it be because people in Califorinia tend to go out more than Virginia?"
   ]
  },
  {
   "cell_type": "markdown",
   "id": "1aabfb21",
   "metadata": {},
   "source": [
    "### Question: How many cases are happening in each state at the end of 2021?"
   ]
  },
  {
   "cell_type": "code",
   "execution_count": 11,
   "id": "be17ab77",
   "metadata": {
    "scrolled": false
   },
   "outputs": [
    {
     "data": {
      "image/png": "[encoded data removed]",
      "text/plain": [
       "<Figure size 1000x1000 with 1 Axes>"
      ]
     },
     "metadata": {
      "needs_background": "light"
     },
     "output_type": "display_data"
    }
   ],
   "source": [
    "#Creating a function that will get the latest total cases which is on the December for each state in 2021\n",
    "def state_tot_cases(state):\n",
    "    #Filtering data so that we are looking at one state in 2021\n",
    "    conf_cases = covid_cases[(covid_cases['state'] == state) & (covid_cases['year'] == 2021)]\n",
    "    \n",
    "    #Getting the latest total cases at the end of 2021\n",
    "    results = conf_cases.sort_values('submission_date').groupby('month').tail(1)\n",
    "    \n",
    "    #Returning results\n",
    "    #The results will contain the total cases at the end of the year for each state\n",
    "    return results\n",
    "\n",
    "#Creating a value that contains all the states\n",
    "states = [state for state, df in covid_cases.groupby('state')]\n",
    "\n",
    "#Changing the size of the chart\n",
    "plt.figure(figsize=(10,10), dpi=100)\n",
    "\n",
    "#Creating a loop that will go through every state and creating a graph with the total cases at the end of 2021\n",
    "for state in states:\n",
    "    #Plotting the bar chart\n",
    "    plt.bar(state, state_tot_cases(state).iloc[-1,2])\n",
    "    \n",
    "#Adding the x ticks\n",
    "plt.xticks(states, rotation='vertical', size=8)\n",
    "\n",
    "\n",
    "#Removing the scientific notation from y axis\n",
    "plt.ticklabel_format(axis='y', style='plain')\n",
    "\n",
    "#Adding labels to x/y axis\n",
    "plt.xlabel('States')\n",
    "plt.ylabel('Number of Cases')\n",
    "\n",
    "#Showing the chart\n",
    "plt.show()"
   ]
  },
  {
   "cell_type": "markdown",
   "id": "0da18c37",
   "metadata": {},
   "source": [
    "### Conlusion:\n",
    "    #### Califorinia has the most COVID cases in 2021. Second is Texas and then florida.\n",
    "    #### This could explain because these are the top 3 states with the highest population."
   ]
  },
  {
   "cell_type": "markdown",
   "id": "46d05ed9",
   "metadata": {},
   "source": [
    "### Question: How many confirmed cases are reported each month in VA 2021?"
   ]
  },
  {
   "cell_type": "code",
   "execution_count": 6,
   "id": "bfb4cbf1",
   "metadata": {
    "scrolled": false
   },
   "outputs": [
    {
     "data": {
      "image/png": "[encoded data removed]",
      "text/plain": [
       "<Figure size 432x288 with 1 Axes>"
      ]
     },
     "metadata": {
      "needs_background": "light"
     },
     "output_type": "display_data"
    }
   ],
   "source": [
    "#Filtering data so we can have only VA state and year 2021\n",
    "va_cases = covid_cases[(covid_cases['state'] == 'VA') & (covid_cases['year'] == 2021)]\n",
    "\n",
    "#Counting the confirm cases of COVID 19 and only getting the latest value\n",
    "results = va_cases.sort_values('submission_date').groupby('month').tail(1)\n",
    "\n",
    "#Graphing the bar chart\n",
    "#Creating a value for all the months\n",
    "months = range(1,13)\n",
    "\n",
    "#Graphing the bar chart\n",
    "plt.bar(months, results['conf_cases'])\n",
    "\n",
    "#Adding the ticks\n",
    "plt.xticks(months)\n",
    "\n",
    "#Adding the x/y values\n",
    "plt.xlabel('Months')\n",
    "plt.ylabel('Number of Cases')\n",
    "\n",
    "#Removing the scientific notation from y axis\n",
    "plt.ticklabel_format(axis='y', style='plain')\n",
    "\n",
    "#Adding grid\n",
    "plt.grid()\n",
    "\n",
    "#Showing the chart\n",
    "plt.show()"
   ]
  },
  {
   "cell_type": "markdown",
   "id": "9319eeb7",
   "metadata": {},
   "source": [
    "### Conlusion:\n",
    "    #### As we can see, the COVID-19 cases are gradually increasing overtime."
   ]
  },
  {
   "cell_type": "markdown",
   "id": "ea149afc",
   "metadata": {},
   "source": [
    "### Question: How many deaths are happening in each state in 2021?"
   ]
  },
  {
   "cell_type": "code",
   "execution_count": 22,
   "id": "decc41df",
   "metadata": {
    "scrolled": false
   },
   "outputs": [
    {
     "data": {
      "image/png": "[encoded data removed]",
      "text/plain": [
       "<Figure size 1000x1000 with 1 Axes>"
      ]
     },
     "metadata": {
      "needs_background": "light"
     },
     "output_type": "display_data"
    }
   ],
   "source": [
    "#For this question, we will be using the function that we already created, state_tot_cases()\n",
    "#Changing the size of the chart\n",
    "plt.figure(figsize=(10,10), dpi=100)\n",
    "\n",
    "#Creating a loop that will go through every state and creating a graph with the death cases at the end of 2021\n",
    "#We will also be using the value states that we already created above\n",
    "for state in states:\n",
    "    #Plotting the bar chart\n",
    "    plt.bar(state, state_tot_cases(state).iloc[-1,7])\n",
    "    \n",
    "#Adding the x ticks\n",
    "plt.xticks(states, rotation='vertical', size=8)\n",
    "\n",
    "#Removing the scientific notation from y axis\n",
    "plt.ticklabel_format(axis='y', style='plain')\n",
    "\n",
    "#Adding labels to x/y axis\n",
    "plt.xlabel('States')\n",
    "plt.ylabel('Number of Death')\n",
    "\n",
    "#Showing the chart\n",
    "plt.show()"
   ]
  },
  {
   "cell_type": "markdown",
   "id": "8717a1ec",
   "metadata": {},
   "source": [
    "### Conlusion:\n",
    "    #### Califorinia has the most COVID death in 2021. Second is Texas and then florida.\n",
    "    #### This could explain because these are the top 3 states with the highest population."
   ]
  }
 ],
 "metadata": {
  "kernelspec": {
   "display_name": "Python 3 (ipykernel)",
   "language": "python",
   "name": "python3"
  },
  "language_info": {
   "codemirror_mode": {
    "name": "ipython",
    "version": 3
   },
   "file_extension": ".py",
   "mimetype": "text/x-python",
   "name": "python",
   "nbconvert_exporter": "python",
   "pygments_lexer": "ipython3",
   "version": "3.10.2"
  }
 },
 "nbformat": 4,
 "nbformat_minor": 5
}
